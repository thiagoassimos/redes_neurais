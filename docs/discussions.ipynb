{
 "cells": [
  {
   "cell_type": "markdown",
   "metadata": {},
   "source": [
    "# Respostas"
   ]
  },
  {
   "cell_type": "markdown",
   "metadata": {},
   "source": [
    "## Item (e)"
   ]
  },
  {
   "cell_type": "markdown",
   "metadata": {},
   "source": [
    "### (i), (ii), (iii) e (iv)\n",
    "\n",
    "Neste modelo de rede neural serão usadas ```2 camadas```: 1 de entrada e 1 de saída, com ```11 neurônios na camada de entrada``` e ```1 na camada de saída```. Como só temos 1 classe binária então vamos usar 1 neurônio por classe, já que o valor produzido por esse neurônio será interpretado como a probabilidade do vinho pertencer à classe positiva. Isso justifica o fato de não utilizarmos neurônios nas camadas intermediárias."
   ]
  },
  {
   "cell_type": "markdown",
   "metadata": {},
   "source": [
    "### (v) \n",
    "Algoritmo implementado para treinamento é o ```backpropagation```."
   ]
  },
  {
   "cell_type": "markdown",
   "metadata": {},
   "source": [
    "### (vi)\n",
    "\n",
    "**Funções de ativação**\n",
    "\n",
    "- camada de entrada: ```relu```;\n",
    "- camada oculta: não será implementada, apesar da função generalizar para camadas ocultas, caso queira adicionar posteriormente;\n",
    "- camada de saída: ```sigmóide```.\n",
    "\n",
    "A escolha pela _relu_ na camada de entrada é porque como os neurônios somente são ativados com inputs positivos, então isso impede que todos os neurônios sejam ativados ao mesmo tempo. Um outro ponto importante é que ela torna o treinamento computacionalmente mais eficiente, permitindo um treinamento mais focado, isto é, com neurônios mais especializados.\n",
    "\n",
    "Na camada de saída a escolha pela _sigmóide_ se deve ao fato dela transformar a saída da última camada em um valor no intervalo entre 0 e 1, representando uma probabilidade. Como este é um problema de classificação binária, esse valor pode ser interpretado como a probabilidade de pertencer à classe positiva, como dito anteriormente. Além disso a sigmóide é uma função de classe $C^\\infty$, ou seja, todas as suas derivadas são contínuas, o que facilita o cálculo dos gradientes durante o treinamento quando se usa, por exemplo, o _backpropagation_. Ela também ajuda a evitar o problema de \"explodir\" gradientes, que pode ocorrer durante o treinamento de redes neurais mais profundas, pois limita a saída entre 0 e 1, evitando esses valores extremamente grandes."
   ]
  },
  {
   "cell_type": "markdown",
   "metadata": {},
   "source": [
    "### (vii)\n",
    "\n",
    "**Função de otimização**\n",
    "\n",
    "Embora o algoritmo _Adam_ possua convergência mais rápida, a escolha é pelo ```SGD``` devido ao fato dele generalizar melhor que o primeiro e assim apresentar melhores resultados."
   ]
  },
  {
   "cell_type": "markdown",
   "metadata": {},
   "source": [
    "### (viii)\n",
    "\n",
    "**Métrica utilizada**\n",
    "\n",
    "```F1-Score```\n",
    "\n",
    "Estamos lidando com um problema de classificação binária, do tipo: \n",
    "- 1 para vinhos bons; \n",
    "- 0 para vinhos ruins. \n",
    "  \n",
    "Então, deve ser dada uma ênfase maior para os erros por falso positivo (vinho ruim classificado como bom) e falso negativo (vinho bom classificado como ruim), respectivamente essas métricas são a _recall_ e a _precision_. Sendo assim, seria mais interessante usar a média harmônica entre elas que é definida pela _f1-score_, ou seja, um valor alto de _f1-score_ só ocorrerá se a _recall_ e _precision_ forem altas. Além disso, a f1_score também é uma boa métrica para trabalhar com classes desbalanceadas, que é o caso deste problema, onde temos aproximadamente 66,51% de vinhos classificados como bons e 33,49% classificados como ruins.\n",
    "\n"
   ]
  }
 ],
 "metadata": {
  "language_info": {
   "name": "python"
  }
 },
 "nbformat": 4,
 "nbformat_minor": 2
}
